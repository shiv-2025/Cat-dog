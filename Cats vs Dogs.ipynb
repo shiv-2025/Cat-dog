{
 "cells": [
  {
   "cell_type": "code",
   "execution_count": 3,
   "metadata": {},
   "outputs": [],
   "source": [
    "import zipfile\n",
    "\n",
    "with zipfile.ZipFile('dogs-vs-cats.zip', 'r') as zip_ref:\n",
    "    zip_ref.extractall('new')"
   ]
  },
  {
   "cell_type": "code",
   "execution_count": 5,
   "metadata": {},
   "outputs": [],
   "source": [
    "with zipfile.ZipFile('new/test1.zip', 'r') as zip_ref:\n",
    "    zip_ref.extractall('new')\n",
    "    \n",
    "with zipfile.ZipFile('new/train.zip', 'r') as zip_ref:\n",
    "    zip_ref.extractall('new')"
   ]
  },
  {
   "cell_type": "code",
   "execution_count": 10,
   "metadata": {},
   "outputs": [],
   "source": [
    "import numpy as np\n",
    "import cv2 #convert images into arrays\n",
    "import os #to specify location of images\n",
    "import random\n",
    "import matplotlib.pyplot as plt\n",
    "import pickle\n",
    "import pandas as pd"
   ]
  },
  {
   "cell_type": "code",
   "execution_count": 81,
   "metadata": {},
   "outputs": [],
   "source": [
    "folder = r'new\\train'\n",
    "IMG_SIZE = 100\n",
    "data = []\n",
    "\n",
    "for img in os.listdir(folder):\n",
    "    label = int(img.split('.')[0].replace('dog','1').replace('cat','0'))\n",
    "    img_path = os.path.join(folder,img)\n",
    "    img_arr = cv2.imread(img_path)\n",
    "    img_arr = cv2.resize(img_arr, (IMG_SIZE, IMG_SIZE))\n",
    "    data.append([img_arr, label])"
   ]
  },
  {
   "cell_type": "code",
   "execution_count": 82,
   "metadata": {},
   "outputs": [
    {
     "data": {
      "text/plain": [
       "[array([[[ 88, 165, 204],\n",
       "         [ 94, 171, 210],\n",
       "         [ 97, 174, 213],\n",
       "         ...,\n",
       "         [128, 209, 246],\n",
       "         [122, 206, 246],\n",
       "         [123, 202, 241]],\n",
       " \n",
       "        [[ 88, 165, 204],\n",
       "         [ 94, 171, 210],\n",
       "         [ 97, 174, 213],\n",
       "         ...,\n",
       "         [131, 212, 247],\n",
       "         [126, 207, 245],\n",
       "         [124, 203, 242]],\n",
       " \n",
       "        [[ 88, 165, 204],\n",
       "         [ 94, 171, 210],\n",
       "         [ 97, 174, 213],\n",
       "         ...,\n",
       "         [138, 215, 248],\n",
       "         [128, 208, 245],\n",
       "         [126, 205, 244]],\n",
       " \n",
       "        ...,\n",
       " \n",
       "        [[ 54, 125, 159],\n",
       "         [ 56, 127, 161],\n",
       "         [ 59, 130, 164],\n",
       "         ...,\n",
       "         [  0,   4,   3],\n",
       "         [  0,   4,   3],\n",
       "         [  0,   2,   2]],\n",
       " \n",
       "        [[ 57, 124, 157],\n",
       "         [ 57, 127, 157],\n",
       "         [ 61, 129, 162],\n",
       "         ...,\n",
       "         [  1,   3,   3],\n",
       "         [  1,   3,   3],\n",
       "         [  1,   3,   3]],\n",
       " \n",
       "        [[ 54, 121, 152],\n",
       "         [ 56, 123, 154],\n",
       "         [ 60, 127, 158],\n",
       "         ...,\n",
       "         [  0,   2,   2],\n",
       "         [  0,   2,   2],\n",
       "         [  0,   2,   2]]], dtype=uint8),\n",
       " 0]"
      ]
     },
     "execution_count": 82,
     "metadata": {},
     "output_type": "execute_result"
    }
   ],
   "source": [
    "data[0]"
   ]
  },
  {
   "cell_type": "code",
   "execution_count": 83,
   "metadata": {},
   "outputs": [
    {
     "data": {
      "text/plain": [
       "25000"
      ]
     },
     "execution_count": 83,
     "metadata": {},
     "output_type": "execute_result"
    }
   ],
   "source": [
    "len(data)"
   ]
  },
  {
   "cell_type": "code",
   "execution_count": 84,
   "metadata": {},
   "outputs": [],
   "source": [
    "random.shuffle(data)"
   ]
  },
  {
   "cell_type": "code",
   "execution_count": 96,
   "metadata": {},
   "outputs": [],
   "source": [
    "X = []\n",
    "y = []\n",
    "\n",
    "for features, labels in data:\n",
    "    X.append(features)\n",
    "    y.append(labels)"
   ]
  },
  {
   "cell_type": "code",
   "execution_count": 94,
   "metadata": {},
   "outputs": [],
   "source": [
    "y = list(map(int, y))"
   ]
  },
  {
   "cell_type": "code",
   "execution_count": 97,
   "metadata": {},
   "outputs": [
    {
     "data": {
      "text/plain": [
       "array([0, 0, 0, ..., 0, 0, 0])"
      ]
     },
     "execution_count": 97,
     "metadata": {},
     "output_type": "execute_result"
    }
   ],
   "source": [
    "X = np.array(X)\n",
    "y = np.array(y)\n"
   ]
  },
  {
   "cell_type": "code",
   "execution_count": 99,
   "metadata": {},
   "outputs": [],
   "source": [
    "pickle.dump(X, open('X.pkl', 'wb'))\n",
    "pickle.dump(y, open('y.pkl', 'wb'))"
   ]
  },
  {
   "cell_type": "code",
   "execution_count": null,
   "metadata": {},
   "outputs": [],
   "source": []
  }
 ],
 "metadata": {
  "kernelspec": {
   "display_name": "Python 3",
   "language": "python",
   "name": "python3"
  },
  "language_info": {
   "codemirror_mode": {
    "name": "ipython",
    "version": 3
   },
   "file_extension": ".py",
   "mimetype": "text/x-python",
   "name": "python",
   "nbconvert_exporter": "python",
   "pygments_lexer": "ipython3",
   "version": "3.8.3"
  }
 },
 "nbformat": 4,
 "nbformat_minor": 4
}
